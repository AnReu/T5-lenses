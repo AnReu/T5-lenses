{
 "cells": [
  {
   "cell_type": "code",
   "execution_count": 17,
   "metadata": {},
   "outputs": [],
   "source": [
    "from model import T5ForConditionalGeneration\n",
    "from transformers import AutoTokenizer, GenerationConfig\n",
    "import torch.nn.functional as F\n",
    "import torch"
   ]
  },
  {
   "cell_type": "code",
   "execution_count": null,
   "metadata": {},
   "outputs": [],
   "source": [
    "model_name = 'google-t5/t5-large'\n",
    "model = T5ForConditionalGeneration.from_pretrained(model_name)\n",
    "tokenizer = AutoTokenizer.from_pretrained(model_name)"
   ]
  },
  {
   "cell_type": "markdown",
   "metadata": {},
   "source": [
    "## Decoder Lens Example for Single Token Prediction"
   ]
  },
  {
   "cell_type": "code",
   "execution_count": 19,
   "metadata": {},
   "outputs": [
    {
     "name": "stdout",
     "output_type": "stream",
     "text": [
      "Token predicted by encoder layer 0: German\n",
      "Token predicted by encoder layer 1: \n",
      "Token predicted by encoder layer 2: \n",
      "Token predicted by encoder layer 3: \n",
      "Token predicted by encoder layer 4: Wie\n",
      "Token predicted by encoder layer 5: Wie\n",
      "Token predicted by encoder layer 6: Wie\n",
      "Token predicted by encoder layer 7: Wie\n",
      "Token predicted by encoder layer 8: Wie\n",
      "Token predicted by encoder layer 9: Wie\n",
      "Token predicted by encoder layer 10: Wie\n",
      "Token predicted by encoder layer 11: Wie\n",
      "Token predicted by encoder layer 12: Wie\n",
      "Token predicted by encoder layer 13: Wie\n",
      "Token predicted by encoder layer 14: Wie\n",
      "Token predicted by encoder layer 15: Wie\n",
      "Token predicted by encoder layer 16: Wie\n",
      "Token predicted by encoder layer 17: Wie\n",
      "Token predicted by encoder layer 18: Hall\n",
      "Token predicted by encoder layer 19: Hall\n",
      "Token predicted by encoder layer 20: Hall\n",
      "Token predicted by encoder layer 21: Hall\n",
      "Token predicted by encoder layer 22: Hall\n",
      "Token predicted by encoder layer 23: Hall\n"
     ]
    }
   ],
   "source": [
    "inputs = tokenizer(\"translate English to German: Hello, how are you?\", return_tensors=\"pt\")\n",
    "decoder_input_ids = torch.zeros(inputs.input_ids.shape[0],1).long()\n",
    "\n",
    "for i in range(model.config.num_layers):\n",
    "    outputs = model(**inputs, decoder_input_ids=decoder_input_ids, return_dict=False, layer_decoder_lens=i)\n",
    "    print(f\"Token predicted by encoder layer {i}: {tokenizer.decode(outputs[0].argmax(dim=-1)[0])}\")"
   ]
  },
  {
   "cell_type": "markdown",
   "metadata": {},
   "source": [
    "## Decoder Lens of entire sentence including generation config "
   ]
  },
  {
   "cell_type": "code",
   "execution_count": 20,
   "metadata": {},
   "outputs": [],
   "source": [
    "def run_example(input_text, generation_config=None):\n",
    "    for i in range(model.config.num_layers):\n",
    "        inputs = tokenizer(input_text, return_tensors=\"pt\")\n",
    "        result = model.generate(inputs.input_ids, layer_decoder_lens=i, generation_config=generation_config)\n",
    "        print(f'Layer {i}: {tokenizer.decode(result[0])}')"
   ]
  },
  {
   "cell_type": "code",
   "execution_count": 21,
   "metadata": {},
   "outputs": [
    {
     "name": "stdout",
     "output_type": "stream",
     "text": [
      "Layer 0: <pad> Hello?? Hello?</s>\n",
      "Layer 1: <pad> Deutsch? Deutsch?</s>\n",
      "Layer 2: <pad> Deutsch? Deutsch? Deutsch?</s>\n",
      "Layer 3: <pad> Deutsch? Deutsch? Deutsch?</s>\n",
      "Layer 4: <pad> Wie ist es?</s>\n",
      "Layer 5: <pad> Wie sind Sie?</s>\n",
      "Layer 6: <pad> Wie sind Sie?</s>\n",
      "Layer 7: <pad> Wie sind Sie?</s>\n",
      "Layer 8: <pad> Wie sind Sie?</s>\n",
      "Layer 9: <pad> Wie sind Sie?</s>\n",
      "Layer 10: <pad> Wie sind Sie?</s>\n",
      "Layer 11: <pad> Wie sind Sie?</s>\n",
      "Layer 12: <pad> Wie sind Sie?</s>\n",
      "Layer 13: <pad> Wie sind Sie?</s>\n",
      "Layer 14: <pad> Wie sind Sie?</s>\n",
      "Layer 15: <pad> Wie sind Sie?</s>\n",
      "Layer 16: <pad> Hallo, wie sind Sie?</s>\n",
      "Layer 17: <pad> Hallo, wie sind Sie?</s>\n",
      "Layer 18: <pad> Hallo, wie bist du?</s>\n",
      "Layer 19: <pad> Hallo, wie bist du?</s>\n",
      "Layer 20: <pad> Hallo, wie bist du?</s>\n",
      "Layer 21: <pad> Hallo, wie sind Sie?</s>\n",
      "Layer 22: <pad> Hallo, wie sind Sie?</s>\n",
      "Layer 23: <pad> Hallo, wie sind Sie?</s>\n"
     ]
    }
   ],
   "source": [
    "prompt = \"translate English to German:\"\n",
    "input_text = f\"{prompt} Hello, how are you?\"\n",
    "generation_config = GenerationConfig(\n",
    "    num_beams=4,\n",
    "    max_length=60,\n",
    "    early_stopping=True,\n",
    "    decoder_start_token_id=0,\n",
    "    eos_token_id=model.config.eos_token_id,\n",
    "    pad_token=model.config.pad_token_id,\n",
    ")\n",
    "\n",
    "run_example(input_text, generation_config)"
   ]
  },
  {
   "cell_type": "code",
   "execution_count": null,
   "metadata": {},
   "outputs": [],
   "source": []
  }
 ],
 "metadata": {
  "kernelspec": {
   "display_name": "Python 3",
   "language": "python",
   "name": "python3"
  },
  "language_info": {
   "codemirror_mode": {
    "name": "ipython",
    "version": 3
   },
   "file_extension": ".py",
   "mimetype": "text/x-python",
   "name": "python",
   "nbconvert_exporter": "python",
   "pygments_lexer": "ipython3",
   "version": "3.12.4"
  }
 },
 "nbformat": 4,
 "nbformat_minor": 2
}
